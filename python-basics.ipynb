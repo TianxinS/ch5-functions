{
 "cells": [
  {
   "cell_type": "markdown",
   "metadata": {},
   "source": [
    "# a2 - Python Basics\n",
    "Fill in the below code cells as specified. Note that cells may utilize variables and functions defined in previous cells; we should be able to use the `Kernal > Restart & Clear All` menu item followed by `Cell > Run All` to execute your entire notebook and see the correct output."
   ]
  },
  {
   "cell_type": "markdown",
   "metadata": {},
   "source": [
    "## Part 1. Introductions"
   ]
  },
  {
   "cell_type": "markdown",
   "metadata": {},
   "source": [
    "Create a variable **`my_name`** that stores your name (a string)."
   ]
  },
  {
   "cell_type": "code",
   "execution_count": 1,
   "metadata": {},
   "outputs": [],
   "source": [
    "my_name = \"Tianxin Song\""
   ]
  },
  {
   "cell_type": "markdown",
   "metadata": {},
   "source": [
    "Create a variable **`my_age`** that stores your age (a number)."
   ]
  },
  {
   "cell_type": "code",
   "execution_count": 2,
   "metadata": {},
   "outputs": [],
   "source": [
    "my_age = 26"
   ]
  },
  {
   "cell_type": "markdown",
   "metadata": {},
   "source": [
    "Define a function **`make_introduction()`** that takes in two arguments: a name and an age. The function should _return_ a string of the format `\"Hello, my name is {NAME} and I'm {AGE} years old.\"` (replacing `{NAME}` and `{AGE}` with the arguments).\n",
    "- Note that you can turn a number into a string using the built-in `str()` function. "
   ]
  },
  {
   "cell_type": "code",
   "execution_count": 3,
   "metadata": {},
   "outputs": [],
   "source": [
    "def make_introduction(name, age):\n",
    "    intro=\"Hello, my name is \" + name +\" and I'm \" + age +\" years old.\"\n",
    "    return intro"
   ]
  },
  {
   "cell_type": "markdown",
   "metadata": {},
   "source": [
    "Create a variable **`my_intro`** by passing your variables `my_name` and `my_age` into your `make_introduction()` function. Print the variable after you create it."
   ]
  },
  {
   "cell_type": "code",
   "execution_count": 4,
   "metadata": {},
   "outputs": [
    {
     "name": "stdout",
     "output_type": "stream",
     "text": [
      "Hello, my name is Tianxin Song and I'm 26 years old.\n"
     ]
    }
   ],
   "source": [
    "my_intro=make_introduction(my_name, str(my_age))\n",
    "print(my_intro)"
   ]
  },
  {
   "cell_type": "markdown",
   "metadata": {},
   "source": [
    "Create a variable **`loud_intro`**, which is your `my_intro` variable with all of the letters capitalized (use the `upper()` string method). Print the variable after you create it."
   ]
  },
  {
   "cell_type": "code",
   "execution_count": 5,
   "metadata": {},
   "outputs": [
    {
     "name": "stdout",
     "output_type": "stream",
     "text": [
      "HELLO, MY NAME IS TIANXIN SONG AND I'M 26 YEARS OLD.\n"
     ]
    }
   ],
   "source": [
    "loud_intro = my_intro.upper()\n",
    "print(loud_intro)"
   ]
  },
  {
   "cell_type": "markdown",
   "metadata": {},
   "source": [
    "Create a variable **`casual_intro`** by using the `replace()` string function to replace (substitute) \"Hello, my name is\", with \"Hey, I'm\" in your `my_intro` variable. You may need to look up the arguments for this function! Print the variable after you create it."
   ]
  },
  {
   "cell_type": "code",
   "execution_count": 6,
   "metadata": {},
   "outputs": [
    {
     "name": "stdout",
     "output_type": "stream",
     "text": [
      "Hey, I'm Tianxin Song and I'm 26 years old.\n"
     ]
    }
   ],
   "source": [
    "casual_intro =  my_intro.replace(\"Hello, my name is\", \"Hey, I'm\")\n",
    "print(casual_intro)"
   ]
  },
  {
   "cell_type": "markdown",
   "metadata": {},
   "source": [
    "Create a variable `intro_e_count` that stores the number of times the letter `'e'` (lower-case only) appears in the `my_intro` variable. Find a [string method](https://docs.python.org/3.6/library/stdtypes.html#string-methods) that will \"count\" the occurences. Print the variable after you create it."
   ]
  },
  {
   "cell_type": "code",
   "execution_count": 7,
   "metadata": {},
   "outputs": [
    {
     "name": "stdout",
     "output_type": "stream",
     "text": [
      "3\n"
     ]
    }
   ],
   "source": [
    "intro_e_count = my_intro.count(\"e\")\n",
    "print(intro_e_count)"
   ]
  },
  {
   "cell_type": "markdown",
   "metadata": {},
   "source": [
    "## Part 2. Money"
   ]
  },
  {
   "cell_type": "markdown",
   "metadata": {},
   "source": [
    "Define a function **`compound_interest()`** that takes three arguments: an initial bank balance (principle, in dollars), an annual interest rate (as a decimal, so `.05` is 5%), and a number of years. The function should calculate the [continuous compound interest](https://en.wikipedia.org/wiki/Compound_interest#Continuous_compounding) and _return_ the resulting total balance after that many number of years.\n",
    "- See [here](http://www.mathwarehouse.com/calculators/continuous-compound-interest-calculator.php) for an example of the formula and a calculator you can use to check your work.\n",
    "- Be sure and call your function with some testing numbers: \\\\$1000 at 6% for 5 years should lead to a balance of \\\\$1349.86.\n",
    "- You will need to import the `math` module for mathematical functions. Don't worry about understanding the math! The skill here is just to find and use the appropriate functions."
   ]
  },
  {
   "cell_type": "code",
   "execution_count": 8,
   "metadata": {},
   "outputs": [
    {
     "data": {
      "text/plain": [
       "1349.86"
      ]
     },
     "execution_count": 8,
     "metadata": {},
     "output_type": "execute_result"
    }
   ],
   "source": [
    "import math\n",
    "def compound_interest(bank_balance, interest_rate, year):\n",
    "    continuous_compound_interest = bank_balance*math.exp(interest_rate*year)\n",
    "    return round(continuous_compound_interest, 2)\n",
    "compound_interest(1000, 0.06, 5)"
   ]
  },
  {
   "cell_type": "markdown",
   "metadata": {},
   "source": [
    "Define a function **`print_earnings()`** that takes three numbers as arguments: an initial principle, an annual interest rate, and a number of years. This function should _print out_ the earnings over this period in the following format:\n",
    "\n",
    "```\n",
    "Initial principle: $1000\n",
    "Annual interest rate: %6.0\n",
    "Interest earned in 5 years: $349.86\n",
    "Total value after 5 years: $1349.86\n",
    "```\n",
    "\n",
    "Note that interest rate should be printed as a percentage, monetary values should have a leading `$`, and you should round monetary values to the nearest penny. Don't worry about extra or missing trailing 0s (in values like `%6.0` or `$101.5`)."
   ]
  },
  {
   "cell_type": "code",
   "execution_count": 9,
   "metadata": {},
   "outputs": [
    {
     "name": "stdout",
     "output_type": "stream",
     "text": [
      "Initial principle: $1000\n",
      "Annual interest rate: %6.0\n",
      "Interest earned in 5 years: $349.86\n",
      "Total value after 5 years: $1349.86\n"
     ]
    }
   ],
   "source": [
    "def print_earnings(initial_principle, annual_interest_rate, year):\n",
    "    interest_earned = compound_interest(initial_principle, annual_interest_rate, year) - initial_principle\n",
    "    total_value = compound_interest(initial_principle, annual_interest_rate, year)\n",
    "    print(\"Initial principle: $\" + str(initial_principle)),\n",
    "    print(\"Annual interest rate: %\" + str(round(annual_interest_rate*100,1))),\n",
    "    print(\"Interest earned in 5 years: $\" + str(round(interest_earned, 2))),\n",
    "    print(\"Total value after 5 years: $\" + str(total_value))\n",
    "    \n",
    "print_earnings(1000, 0.06, 5)\n"
   ]
  },
  {
   "cell_type": "markdown",
   "metadata": {},
   "source": [
    "Define a function **`value_of_change()`** that takes in **named** arguments representing amounts of different US coins (`quarters`, `dimes`, `nickels`, and `pennies`)--each of the arguments should have a default value of `0`. The function should _return_ the total value in dollars of those coins. For example, 5 quarters, 4 dimes, 3, nickels, and 2 pennies have a value of `1.82` dollars."
   ]
  },
  {
   "cell_type": "code",
   "execution_count": 10,
   "metadata": {},
   "outputs": [
    {
     "data": {
      "text/plain": [
       "1.82"
      ]
     },
     "execution_count": 10,
     "metadata": {},
     "output_type": "execute_result"
    }
   ],
   "source": [
    "def value_of_change(quarter =0, dime=0, nickel=0, penny=0):\n",
    "    dollar = 0.25*quarter+ 0.1*dime + 0.05*nickel + 0.01*penny\n",
    "    return round(dollar,2)\n",
    "value_of_change(5, 4, 3, 2)"
   ]
  },
  {
   "cell_type": "markdown",
   "metadata": {},
   "source": [
    "Define a function **`consolidate_change`** that takes as arguments counts of different US coins (similar to the previous function) and prints out the _simplest_ number of bills and coins needed to make that amount.\n",
    "\n",
    "For example, when called with arguments of 10 quarters, 9 dimes, 8 nickels, and 7 pennies, the function should print:\n",
    "\n",
    "```\n",
    "Number of dollars: 3\n",
    "Number of quarters: 3\n",
    "Number of dimes: 1\n",
    "Number of nickels: 0\n",
    "Number of pennies: 2\n",
    "Total amount: $3.87\n",
    "```\n",
    "\n",
    "You _must_ use your previous `value_of_change()` method in this calculation. _Hint:_ think about converting the coins to a giant pile of pennies, and then determining how many (whole number) dollars you can divide them into. Then put those pennies aside, and determine how many (whole number) quarters you can make with the rest, etc."
   ]
  },
  {
   "cell_type": "code",
   "execution_count": 11,
   "metadata": {
    "scrolled": true
   },
   "outputs": [
    {
     "name": "stdout",
     "output_type": "stream",
     "text": [
      "Number of dollars: 3\n",
      "Number of quarters: 3\n",
      "Number of dimes: 1\n",
      "Number of nickels: 0\n",
      "Number of pennies: 2\n",
      "Total amount: $3.87\n"
     ]
    }
   ],
   "source": [
    "def consolidate_change(quarter =0, dime=0, nickel=0, penny=0):\n",
    "    value = round(value_of_change(quarter, dime, nickel, penny),2)\n",
    "    dollar = value//1\n",
    "    quarter = (value-dollar)//0.25\n",
    "    dime = (value-dollar-0.25*quarter)//0.1\n",
    "    nickel = (value-dollar-0.25*quarter-0.1*dime)//0.05\n",
    "    penny = (value-dollar-0.25*quarter-0.1*dime-0.05*nickel)//0.01\n",
    "    print(\"Number of dollars: \" + str(int(dollar)))\n",
    "    print(\"Number of quarters: \" + str(int(quarter)))\n",
    "    print(\"Number of dimes: \" + str(int(dime)))\n",
    "    print(\"Number of nickels: \" + str(int(nickel)))\n",
    "    print(\"Number of pennies: \" + str(int(penny)))\n",
    "    print(\"Total amount: $\" + str(value))\n",
    "    \n",
    "consolidate_change(10, 9, 8, 7)"
   ]
  },
  {
   "cell_type": "markdown",
   "metadata": {},
   "source": [
    "## Part 3. Time"
   ]
  },
  {
   "cell_type": "markdown",
   "metadata": {},
   "source": [
    "Use the [date()](https://docs.python.org/3/library/datetime.html#datetime.date) function from the `datetime` module to create a variable **`summer_break`** that represents the first day of Summer break (June 9, 2018). Note that this function will return a value of type `date`."
   ]
  },
  {
   "cell_type": "code",
   "execution_count": 109,
   "metadata": {},
   "outputs": [],
   "source": [
    "import datetime\n",
    "from datetime import *\n",
    "summer_break = datetime(2018,6,9).date()"
   ]
  },
  {
   "cell_type": "markdown",
   "metadata": {},
   "source": [
    "Create a variable **`days_to_break`** that is how many days from the _current date_ (today--look for a method of the [date class](https://docs.python.org/3/library/datetime.html#date-objects)) to Summer break. _Hint:_ variables of the `date` type support the subtraction operator! Print the variable after you create it; it's fine if the printed result includes a `00:00:00` timestamp."
   ]
  },
  {
   "cell_type": "code",
   "execution_count": 110,
   "metadata": {},
   "outputs": [
    {
     "data": {
      "text/plain": [
       "312"
      ]
     },
     "execution_count": 110,
     "metadata": {},
     "output_type": "execute_result"
    }
   ],
   "source": [
    "from datetime import date\n",
    "days_to_break = abs(summer_break - date.today())\n",
    "days_to_break.days"
   ]
  },
  {
   "cell_type": "markdown",
   "metadata": {},
   "source": [
    "Define a function **`can_vote_us()`** that takes as an argument a birth date (as a `date` value). This function should _return_ the `date` in which a person born on that day can legally vote in the US (i.e., when they turn 18 years old).\n",
    "\n",
    "In order to calculate this date, you should use the [dateutil.relativedelta](https://dateutil.readthedocs.io/en/stable/relativedelta.html) library, which is included with Anaconda. You will need to import the `relativedelta` function from this library, which will let you specify a \"time change\" in terms of years that can then be added to a date. See [the examples](https://dateutil.readthedocs.io/en/stable/examples.html#relativedelta-examples) for details.\n",
    "\n",
    "Demonstrate your function works by printing out when someone born _today_ will be able to legally vote."
   ]
  },
  {
   "cell_type": "code",
   "execution_count": 55,
   "metadata": {},
   "outputs": [
    {
     "name": "stdout",
     "output_type": "stream",
     "text": [
      "2037-04-16\n"
     ]
    }
   ],
   "source": [
    "import dateutil.relativedelta\n",
    "from dateutil.relativedelta import *\n",
    "def can_vote_us(birthday):\n",
    "    date = birthday + relativedelta(years=+18)\n",
    "    print(date)\n",
    "\n",
    "can_vote_us(date.today())\n"
   ]
  },
  {
   "cell_type": "markdown",
   "metadata": {},
   "source": [
    "Define a function **`make_birthday_intro()`** that takes in two arguments: a name (`string`), and a birth date (`date`). This function should _return_ a string of the format `\"Hello, my name is {NAME} and I'm {AGE} years old. In {N} days I'll be {NEW_AGE}\"` (replacing `{NAME}`, `{AGE}`, `{N}`, and `{NEW_AGE}` with appropriate values).\n",
    "\n",
    "- You should utilize your **`make_introduction()`** function from Part 1! You may need to calculate a variable to pass into that function call.\n",
    "- _Hint_: use the `relativedelta()` function to calculate the person's current age, as well as when they will turn 1 year older. You can get the number of days or years from a `relativedelta` value (e.g., `my_time_difference`) by accessing the `.days` or `.years` properties (e.g., `my_time_difference.years`)."
   ]
  },
  {
   "cell_type": "code",
   "execution_count": 111,
   "metadata": {},
   "outputs": [],
   "source": [
    "import calendar\n",
    "def make_birthday_intro(name, birthday):\n",
    "    age = relativedelta(date.today(),birthday).years\n",
    "    new_age = age +1\n",
    "    new_birthday = birthday + relativedelta(years=+new_age)\n",
    "    day_number = new_birthday.date()-date.today()\n",
    "    my_name = str(name)\n",
    "    return make_introduction(my_name, str(age)) + \" In \" + str(day_number.days) + \" days I'll be \"+ str(new_age)\n"
   ]
  },
  {
   "cell_type": "markdown",
   "metadata": {},
   "source": [
    "Create a variable **`my_bday_intro`** by calling your `make_birthday_intro()` function and passing in your name (already a variable!) and your birthdate. Print the variable after you create it. "
   ]
  },
  {
   "cell_type": "code",
   "execution_count": 113,
   "metadata": {},
   "outputs": [
    {
     "name": "stdout",
     "output_type": "stream",
     "text": [
      "Hello, my name is Tianxin and I'm 18 years old. In 52 days I'll be 19\n"
     ]
    }
   ],
   "source": [
    "my_bday_intro = make_birthday_intro('Tianxin', datetime(2000,6,8))\n",
    "print(my_bday_intro)"
   ]
  },
  {
   "cell_type": "code",
   "execution_count": null,
   "metadata": {},
   "outputs": [],
   "source": []
  }
 ],
 "metadata": {
  "kernelspec": {
   "display_name": "Python 3",
   "language": "python",
   "name": "python3"
  },
  "language_info": {
   "codemirror_mode": {
    "name": "ipython",
    "version": 3
   },
   "file_extension": ".py",
   "mimetype": "text/x-python",
   "name": "python",
   "nbconvert_exporter": "python",
   "pygments_lexer": "ipython3",
   "version": "3.7.1"
  }
 },
 "nbformat": 4,
 "nbformat_minor": 2
}
