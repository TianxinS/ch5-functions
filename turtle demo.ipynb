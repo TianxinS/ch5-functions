{
 "cells": [
  {
   "cell_type": "code",
   "execution_count": null,
   "metadata": {},
   "outputs": [],
   "source": [
    "import turtle"
   ]
  },
  {
   "cell_type": "code",
   "execution_count": null,
   "metadata": {},
   "outputs": [],
   "source": [
    "window = turtle.Screen()\n",
    "window.title(\"Turtle Demo\")\n",
    "window.setup(500, 500)"
   ]
  },
  {
   "cell_type": "code",
   "execution_count": null,
   "metadata": {},
   "outputs": [],
   "source": [
    "my_turtle = turtle.Turtle()"
   ]
  },
  {
   "cell_type": "code",
   "execution_count": null,
   "metadata": {},
   "outputs": [],
   "source": [
    "my_turtle.shape(\"turtle\")\n",
    "my_turtle.speed(5)"
   ]
  },
  {
   "cell_type": "code",
   "execution_count": null,
   "metadata": {},
   "outputs": [],
   "source": [
    "# write a function called \"draw_rectangle\" that takes in a width\n",
    "# and a height and tells the turtle to draw a rectangle of that size\n",
    "def draw_rectangle(width, height):\n",
    "    my_turtle.forward(width)\n",
    "    my_turtle.right(90)\n",
    "    my_turtle.forward(height)\n",
    "    my_turtle.right(90)\n",
    "    my_turtle.forward(width)\n",
    "    my_turtle.right(90)\n",
    "    my_turtle.forward(height)\n",
    "    my_turtle.right(90)\n",
    "    \n"
   ]
  },
  {
   "cell_type": "code",
   "execution_count": null,
   "metadata": {},
   "outputs": [],
   "source": [
    "draw_rectangle(40, 80)"
   ]
  },
  {
   "cell_type": "code",
   "execution_count": null,
   "metadata": {},
   "outputs": [],
   "source": [
    "my_turtle.reset()"
   ]
  },
  {
   "cell_type": "code",
   "execution_count": null,
   "metadata": {},
   "outputs": [],
   "source": [
    "my_turtle.color(\"red\")\n",
    "my_turtle.pensize(4)\n",
    "draw_rectangle(40, 80)\n",
    "my_turtle.color(\"orange\")\n",
    "draw_rectangle(30, 70)\n",
    "my_turtle.color(\"yellow\")\n",
    "draw_rectangle(20, 60)\n"
   ]
  },
  {
   "cell_type": "code",
   "execution_count": null,
   "metadata": {},
   "outputs": [],
   "source": [
    "my_turtle.penup()"
   ]
  },
  {
   "cell_type": "code",
   "execution_count": null,
   "metadata": {},
   "outputs": [],
   "source": [
    "my_turtle.forward(100)"
   ]
  },
  {
   "cell_type": "code",
   "execution_count": null,
   "metadata": {},
   "outputs": [],
   "source": [
    "my_turtle.pendown()"
   ]
  },
  {
   "cell_type": "code",
   "execution_count": null,
   "metadata": {},
   "outputs": [],
   "source": [
    "draw_rectangle(40,80)"
   ]
  },
  {
   "cell_type": "code",
   "execution_count": null,
   "metadata": {},
   "outputs": [],
   "source": [
    "my_turtle.color(\"red\")\n",
    "draw_rectangle(60,60)\n",
    "my_turtle.pensize(5)\n",
    "my_turtle.penup()\n",
    "my_turtle.forward(5)\n",
    "my_turtle.right(90)\n",
    "my_turtle.forward(5)\n",
    "my_turtle.left(90)\n",
    "my_turtle.pendown()"
   ]
  },
  {
   "cell_type": "code",
   "execution_count": null,
   "metadata": {},
   "outputs": [],
   "source": [
    "my_turtle.color(\"orange\")\n",
    "draw_rectangle(60,60)\n",
    "my_turtle.pensize(5)\n",
    "my_turtle.penup()\n",
    "my_turtle.forward(5)\n",
    "my_turtle.right(90)\n",
    "my_turtle.forward(5)\n",
    "my_turtle.left(90)\n",
    "my_turtle.pendown()"
   ]
  },
  {
   "cell_type": "code",
   "execution_count": null,
   "metadata": {},
   "outputs": [],
   "source": [
    "my_turtle.color(\"yellow\")\n",
    "draw_rectangle(60,60)\n",
    "my_turtle.pensize(5)\n",
    "my_turtle.penup()\n",
    "my_turtle.forward(5)\n",
    "my_turtle.right(90)\n",
    "my_turtle.forward(5)\n",
    "my_turtle.left(90)\n",
    "my_turtle.pendown()"
   ]
  },
  {
   "cell_type": "code",
   "execution_count": null,
   "metadata": {},
   "outputs": [],
   "source": [
    "def draw_rainbow_arc(color, size):\n",
    "    my_turtle.color(color)\n",
    "    my_turtle.pensize(5)\n",
    "    draw_rectangle(size,size)\n",
    "    my_turtle.penup()\n",
    "    my_turtle.forward(5)\n",
    "    my_turtle.right(90)\n",
    "    my_turtle.forward(5)\n",
    "    my_turtle.left(90)\n",
    "    my_turtle.pendown()"
   ]
  },
  {
   "cell_type": "code",
   "execution_count": null,
   "metadata": {},
   "outputs": [],
   "source": [
    "my_turtle.reset()\n",
    "draw_rainbow_arc(\"red\", 60)\n",
    "draw_rainbow_arc(\"orange\", 50)\n",
    "draw_rainbow_arc(\"yellow\", 40)\n",
    "draw_rainbow_arc(\"green\", 30)\n",
    "draw_rainbow_arc(\"blue\", 20)\n",
    "draw_rainbow_arc(\"violet\", 10)\n"
   ]
  },
  {
   "cell_type": "code",
   "execution_count": null,
   "metadata": {},
   "outputs": [],
   "source": [
    "#draw_stick_figure\n",
    "def draw_stick_figure(color, body, arm, leg):\n",
    "    my_turtle.color(color)\n",
    "    my_turtle.pensize(5)\n",
    "    my_turtle.penup()\n",
    "    my_turtle.left(90)\n",
    "    my_turtle.forward(body)\n",
    "    my_turtle.right(90)\n",
    "    my_turtle.pendown()\n",
    "    my_turtle.circle(30)\n",
    "    my_turtle.forward(arm)\n",
    "    my_turtle.left(180)\n",
    "    my_turtle.forward(arm*2)\n",
    "    my_turtle.left(180)\n",
    "    my_turtle.forward(arm)\n",
    "    my_turtle.right(90)\n",
    "    my_turtle.forward(body)\n",
    "    my_turtle.left(45)\n",
    "    my_turtle.forward(leg)\n",
    "    my_turtle.left(180)\n",
    "    my_turtle.forward(leg)\n",
    "    my_turtle.left(90)\n",
    "    my_turtle.forward(leg)\n",
    "    my_turtle.penup()\n",
    "    my_turtle.left(180)\n",
    "    my_turtle.forward(leg)\n",
    "    my_turtle.left(45)\n",
    "    my_turtle.forward(body+35)\n",
    "    my_turtle.left(90)\n",
    "    my_turtle.forward(15)\n",
    "    my_turtle.left(180)\n",
    "    my_turtle.pendown()\n",
    "    my_turtle.forward(8)\n",
    "    my_turtle.penup()\n",
    "    my_turtle.forward(14)\n",
    "    my_turtle.pendown()\n",
    "    my_turtle.forward(8)\n",
    "    my_turtle.penup()\n",
    "    my_turtle.right(90)\n",
    "    my_turtle.forward(20)\n",
    "    my_turtle.right(90)\n",
    "    my_turtle.forward(8)\n",
    "    my_turtle.pendown()\n",
    "    my_turtle.forward(14)\n",
    "    my_turtle.penup()\n",
    "    my_turtle.forward(60)\n",
    "    \n"
   ]
  },
  {
   "cell_type": "code",
   "execution_count": null,
   "metadata": {},
   "outputs": [],
   "source": [
    "my_turtle.reset()\n",
    "draw_stick_figure(\"orange\", 60, 90, 90)"
   ]
  },
  {
   "cell_type": "code",
   "execution_count": null,
   "metadata": {},
   "outputs": [],
   "source": [
    "turtle.done()"
   ]
  },
  {
   "cell_type": "markdown",
   "metadata": {},
   "source": [
    "## Conditions"
   ]
  },
  {
   "cell_type": "code",
   "execution_count": null,
   "metadata": {},
   "outputs": [],
   "source": []
  }
 ],
 "metadata": {
  "kernelspec": {
   "display_name": "Python 3",
   "language": "python",
   "name": "python3"
  },
  "language_info": {
   "codemirror_mode": {
    "name": "ipython",
    "version": 3
   },
   "file_extension": ".py",
   "mimetype": "text/x-python",
   "name": "python",
   "nbconvert_exporter": "python",
   "pygments_lexer": "ipython3",
   "version": "3.7.1"
  }
 },
 "nbformat": 4,
 "nbformat_minor": 2
}
